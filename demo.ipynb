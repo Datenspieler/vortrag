{
 "cells": [
  {
   "cell_type": "markdown",
   "metadata": {
    "heading_collapsed": true
   },
   "source": [
    "# Background\n",
    "\n",
    "This notebook wants to show how straight forward it is to do machine learning in Jupyter notebooks. This is done by looking at the MNIST data set, which consists of images of digist, and fitting some models. It covers 'classical' models like K-Means, Naive Bayes and Logistic Regression, as well as Random Forrests as a more 'modern' model and also Deep Learning networks."
   ]
  },
  {
   "cell_type": "markdown",
   "metadata": {
    "hidden": true
   },
   "source": [
    "The goal is *not* to give the background on those models or fine tune them. Focus is on showing how readily those models are available and how easy it is to get started. Of course this also has the danger of using statistical models in not appropriate cases. E.g., some models below will not work for the given data.\n",
    "\n",
    "The notebooks heavily uses code from the two great sources:\n",
    "- [Python Data Science Handbook, Jake VanderPlas](https://jakevdp.github.io/PythonDataScienceHandbook/): great general introduction to Data Science with Python, include a chapter on machine learning. Free copy in form of Jupyter notebooks available.\n",
    "- [Deep learning with Python, Francois Chollet](https://www.manning.com/books/deep-learning-with-python): covers deep learning via the Keras library."
   ]
  },
  {
   "cell_type": "markdown",
   "metadata": {
    "heading_collapsed": true
   },
   "source": [
    "# Setting up the working environment\n",
    "\n",
    "Loading standard libraries *numpy*, *matplotlib* and *seaborn* and ignoring warnings. In addition load support functions *accuracy_score* and *confusion_matrix* from *sklearn* to measure model performance and *to_categorical* from *keras* to transform target variable. "
   ]
  },
  {
   "cell_type": "code",
   "execution_count": 1,
   "metadata": {
    "ExecuteTime": {
     "end_time": "2018-04-12T16:56:13.624863Z",
     "start_time": "2018-04-12T16:56:07.386053Z"
    },
    "hidden": true
   },
   "outputs": [],
   "source": [
    "import numpy as np\n",
    "\n",
    "%matplotlib inline\n",
    "\n",
    "import matplotlib.pyplot as plt\n",
    "import seaborn as sns\n",
    "sns.set()\n",
    "\n",
    "import warnings\n",
    "warnings.filterwarnings('ignore')\n",
    "\n",
    "#from sklearn.datasets import load_digits\n",
    "#from sklearn.model_selection import train_test_split\n",
    "\n",
    "from sklearn.metrics import accuracy_score\n",
    "from sklearn.metrics import classification_report\n",
    "from sklearn.metrics import confusion_matrix"
   ]
  },
  {
   "cell_type": "markdown",
   "metadata": {
    "hidden": true
   },
   "source": [
    "Setting standard font and size for figures somewhat larger and set width of text output larger."
   ]
  },
  {
   "cell_type": "code",
   "execution_count": 2,
   "metadata": {
    "ExecuteTime": {
     "end_time": "2018-04-12T16:56:13.632989Z",
     "start_time": "2018-04-12T16:56:13.624863Z"
    },
    "hidden": true
   },
   "outputs": [],
   "source": [
    "sns.set_context(\"talk\", font_scale=1.4)\n",
    "plt.rcParams['figure.figsize'] = (16,8)\n",
    "\n",
    "np.set_printoptions(linewidth=120) # standard 75"
   ]
  },
  {
   "cell_type": "markdown",
   "metadata": {
    "heading_collapsed": true
   },
   "source": [
    "# MNIST data set\n",
    "\n",
    "Loading the data set and having a quick look at it."
   ]
  },
  {
   "cell_type": "markdown",
   "metadata": {
    "hidden": true
   },
   "source": [
    "Loading the data via supplied keras function."
   ]
  },
  {
   "cell_type": "code",
   "execution_count": 3,
   "metadata": {
    "ExecuteTime": {
     "end_time": "2018-04-12T16:56:20.721515Z",
     "start_time": "2018-04-12T16:56:13.637000Z"
    },
    "hidden": true
   },
   "outputs": [
    {
     "name": "stderr",
     "output_type": "stream",
     "text": [
      "Using TensorFlow backend.\n"
     ]
    }
   ],
   "source": [
    "from keras.datasets import mnist\n",
    "\n",
    "(train_images, train_labels), (test_images, test_labels) = mnist.load_data()"
   ]
  },
  {
   "cell_type": "markdown",
   "metadata": {
    "hidden": true
   },
   "source": [
    "Data consists of 60.000 greyscale training images and 10.000 test images of size 28 x 28 pixels."
   ]
  },
  {
   "cell_type": "code",
   "execution_count": 4,
   "metadata": {
    "ExecuteTime": {
     "end_time": "2018-04-12T16:56:20.737237Z",
     "start_time": "2018-04-12T16:56:20.721515Z"
    },
    "hidden": true
   },
   "outputs": [
    {
     "data": {
      "text/plain": [
       "(60000, 28, 28)"
      ]
     },
     "execution_count": 4,
     "metadata": {},
     "output_type": "execute_result"
    }
   ],
   "source": [
    "train_images.shape"
   ]
  },
  {
   "cell_type": "code",
   "execution_count": 5,
   "metadata": {
    "ExecuteTime": {
     "end_time": "2018-04-12T16:56:20.781355Z",
     "start_time": "2018-04-12T16:56:20.741248Z"
    },
    "hidden": true
   },
   "outputs": [
    {
     "name": "stdout",
     "output_type": "stream",
     "text": [
      "[[  0   0   0   0   0   0   0   0   0   0   0   0   0   0   0   0   0   0   0   0   0   0   0   0   0   0   0   0]\n",
      " [  0   0   0   0   0   0   0   0   0   0   0   0   0   0   0   0   0   0   0   0   0   0   0   0   0   0   0   0]\n",
      " [  0   0   0   0   0   0   0   0   0   0   0   0   0   0   0   0   0   0   0   0   0   0   0   0   0   0   0   0]\n",
      " [  0   0   0   0   0   0   0   0   0   0   0   0   0   0   0   0   0   0   0   0   0   0   0   0   0   0   0   0]\n",
      " [  0   0   0   0   0   0   0   0   0   0   0   0   0   0   0   0   0   0   0   0   0   0   0   0   0   0   0   0]\n",
      " [  0   0   0   0   0   0   0   0   0   0   0   0   3  18  18  18 126 136 175  26 166 255 247 127   0   0   0   0]\n",
      " [  0   0   0   0   0   0   0   0  30  36  94 154 170 253 253 253 253 253 225 172 253 242 195  64   0   0   0   0]\n",
      " [  0   0   0   0   0   0   0  49 238 253 253 253 253 253 253 253 253 251  93  82  82  56  39   0   0   0   0   0]\n",
      " [  0   0   0   0   0   0   0  18 219 253 253 253 253 253 198 182 247 241   0   0   0   0   0   0   0   0   0   0]\n",
      " [  0   0   0   0   0   0   0   0  80 156 107 253 253 205  11   0  43 154   0   0   0   0   0   0   0   0   0   0]\n",
      " [  0   0   0   0   0   0   0   0   0  14   1 154 253  90   0   0   0   0   0   0   0   0   0   0   0   0   0   0]\n",
      " [  0   0   0   0   0   0   0   0   0   0   0 139 253 190   2   0   0   0   0   0   0   0   0   0   0   0   0   0]\n",
      " [  0   0   0   0   0   0   0   0   0   0   0  11 190 253  70   0   0   0   0   0   0   0   0   0   0   0   0   0]\n",
      " [  0   0   0   0   0   0   0   0   0   0   0   0  35 241 225 160 108   1   0   0   0   0   0   0   0   0   0   0]\n",
      " [  0   0   0   0   0   0   0   0   0   0   0   0   0  81 240 253 253 119  25   0   0   0   0   0   0   0   0   0]\n",
      " [  0   0   0   0   0   0   0   0   0   0   0   0   0   0  45 186 253 253 150  27   0   0   0   0   0   0   0   0]\n",
      " [  0   0   0   0   0   0   0   0   0   0   0   0   0   0   0  16  93 252 253 187   0   0   0   0   0   0   0   0]\n",
      " [  0   0   0   0   0   0   0   0   0   0   0   0   0   0   0   0   0 249 253 249  64   0   0   0   0   0   0   0]\n",
      " [  0   0   0   0   0   0   0   0   0   0   0   0   0   0  46 130 183 253 253 207   2   0   0   0   0   0   0   0]\n",
      " [  0   0   0   0   0   0   0   0   0   0   0   0  39 148 229 253 253 253 250 182   0   0   0   0   0   0   0   0]\n",
      " [  0   0   0   0   0   0   0   0   0   0  24 114 221 253 253 253 253 201  78   0   0   0   0   0   0   0   0   0]\n",
      " [  0   0   0   0   0   0   0   0  23  66 213 253 253 253 253 198  81   2   0   0   0   0   0   0   0   0   0   0]\n",
      " [  0   0   0   0   0   0  18 171 219 253 253 253 253 195  80   9   0   0   0   0   0   0   0   0   0   0   0   0]\n",
      " [  0   0   0   0  55 172 226 253 253 253 253 244 133  11   0   0   0   0   0   0   0   0   0   0   0   0   0   0]\n",
      " [  0   0   0   0 136 253 253 253 212 135 132  16   0   0   0   0   0   0   0   0   0   0   0   0   0   0   0   0]\n",
      " [  0   0   0   0   0   0   0   0   0   0   0   0   0   0   0   0   0   0   0   0   0   0   0   0   0   0   0   0]\n",
      " [  0   0   0   0   0   0   0   0   0   0   0   0   0   0   0   0   0   0   0   0   0   0   0   0   0   0   0   0]\n",
      " [  0   0   0   0   0   0   0   0   0   0   0   0   0   0   0   0   0   0   0   0   0   0   0   0   0   0   0   0]]\n"
     ]
    }
   ],
   "source": [
    "print(train_images[0])"
   ]
  },
  {
   "cell_type": "code",
   "execution_count": 6,
   "metadata": {
    "ExecuteTime": {
     "end_time": "2018-04-12T16:56:20.817455Z",
     "start_time": "2018-04-12T16:56:20.786371Z"
    },
    "hidden": true
   },
   "outputs": [
    {
     "data": {
      "text/plain": [
       "(10000, 28, 28)"
      ]
     },
     "execution_count": 6,
     "metadata": {},
     "output_type": "execute_result"
    }
   ],
   "source": [
    "test_images.shape"
   ]
  },
  {
   "cell_type": "markdown",
   "metadata": {
    "hidden": true
   },
   "source": [
    "The target variables = labels are the digits from 0 to 9."
   ]
  },
  {
   "cell_type": "code",
   "execution_count": 7,
   "metadata": {
    "ExecuteTime": {
     "end_time": "2018-04-12T16:56:20.848534Z",
     "start_time": "2018-04-12T16:56:20.821461Z"
    },
    "hidden": true
   },
   "outputs": [
    {
     "data": {
      "text/plain": [
       "array([5, 0, 4, ..., 5, 6, 8], dtype=uint8)"
      ]
     },
     "execution_count": 7,
     "metadata": {},
     "output_type": "execute_result"
    }
   ],
   "source": [
    "train_labels"
   ]
  },
  {
   "cell_type": "code",
   "execution_count": 8,
   "metadata": {
    "ExecuteTime": {
     "end_time": "2018-04-12T16:56:20.876608Z",
     "start_time": "2018-04-12T16:56:20.852543Z"
    },
    "hidden": true
   },
   "outputs": [
    {
     "data": {
      "text/plain": [
       "array([7, 2, 1, ..., 4, 5, 6], dtype=uint8)"
      ]
     },
     "execution_count": 8,
     "metadata": {},
     "output_type": "execute_result"
    }
   ],
   "source": [
    "test_labels"
   ]
  },
  {
   "cell_type": "markdown",
   "metadata": {
    "hidden": true
   },
   "source": [
    "Let's plot the first 100 digits, also showing the label in green."
   ]
  },
  {
   "cell_type": "code",
   "execution_count": 9,
   "metadata": {
    "ExecuteTime": {
     "end_time": "2018-04-12T16:56:23.362607Z",
     "start_time": "2018-04-12T16:56:20.879614Z"
    },
    "hidden": true
   },
   "outputs": [
    {
     "data": {
      "image/png": "[encoded data removed]",
      "text/plain": [
       "<Figure size 576x576 with 100 Axes>"
      ]
     },
     "metadata": {},
     "output_type": "display_data"
    }
   ],
   "source": [
    "fig, axes = plt.subplots(10, 10, figsize=(8, 8),\n",
    "                         subplot_kw={'xticks': [], 'yticks': []},\n",
    "                         gridspec_kw=dict(hspace=0.1, wspace=0.1))\n",
    "\n",
    "for i, ax in enumerate(axes.flat):\n",
    "    ax.imshow(train_images[i], cmap='binary', interpolation='nearest')\n",
    "    ax.text(0.05, 0.05, str(train_labels[i]),\n",
    "            transform=ax.transAxes, color='green')"
   ]
  },
  {
   "cell_type": "markdown",
   "metadata": {
    "hidden": true
   },
   "source": [
    "Models generally perform better if the input features are numbers between 0 and 1, not 0 and 255, thus rescale values."
   ]
  },
  {
   "cell_type": "code",
   "execution_count": 10,
   "metadata": {
    "ExecuteTime": {
     "end_time": "2018-04-12T16:56:23.725570Z",
     "start_time": "2018-04-12T16:56:23.365614Z"
    },
    "hidden": true
   },
   "outputs": [],
   "source": [
    "train_images = train_images.astype('float32') / 255\n",
    "test_images = test_images.astype('float32') / 255"
   ]
  },
  {
   "cell_type": "markdown",
   "metadata": {
    "hidden": true
   },
   "source": [
    "For most of the models the input should not be a 28 x 28 matrix, but rather a 28 * 28 vector. Only models that really take the image structure into account, will use the 28 x 28 matrix as an input."
   ]
  },
  {
   "cell_type": "code",
   "execution_count": 11,
   "metadata": {
    "ExecuteTime": {
     "end_time": "2018-04-12T16:56:23.732593Z",
     "start_time": "2018-04-12T16:56:23.728580Z"
    },
    "hidden": true
   },
   "outputs": [],
   "source": [
    "train_images_flat = train_images.reshape((60000, 28 * 28))\n",
    "test_images_flat = test_images.reshape((10000, 28 * 28))"
   ]
  },
  {
   "cell_type": "markdown",
   "metadata": {
    "hidden": true
   },
   "source": [
    "When working with the image, not the flattened version, the general model is set to handle color images, i.e., an additional dimension. Our images are greyscale, thus somewhat artificially add one dimension. "
   ]
  },
  {
   "cell_type": "code",
   "execution_count": 12,
   "metadata": {
    "ExecuteTime": {
     "end_time": "2018-04-12T16:56:23.760670Z",
     "start_time": "2018-04-12T16:56:23.735600Z"
    },
    "hidden": true
   },
   "outputs": [],
   "source": [
    "train_images = train_images.reshape((train_images.shape[0], 28, 28, 1))\n",
    "test_images = test_images.reshape((test_images.shape[0], 28, 28, 1))"
   ]
  },
  {
   "cell_type": "markdown",
   "metadata": {
    "heading_collapsed": true
   },
   "source": [
    "# K-Means \n",
    "Using K-Means as the first model, note that this method does the clustering without looking at the labels. We only give the maximal number of clusters (10) as parameter."
   ]
  },
  {
   "cell_type": "markdown",
   "metadata": {
    "hidden": true
   },
   "source": [
    "Set the training and test data."
   ]
  },
  {
   "cell_type": "code",
   "execution_count": 13,
   "metadata": {
    "ExecuteTime": {
     "end_time": "2018-04-12T16:56:23.789744Z",
     "start_time": "2018-04-12T16:56:23.763675Z"
    },
    "hidden": true
   },
   "outputs": [],
   "source": [
    "X_train = train_images_flat\n",
    "X_test = test_images_flat\n",
    "# Do not need the labels for the model development. But we need them for evaluating the model.\n",
    "y_train =  train_labels\n",
    "y_test = test_labels"
   ]
  },
  {
   "cell_type": "markdown",
   "metadata": {
    "hidden": true
   },
   "source": [
    "Load the model and fit it."
   ]
  },
  {
   "cell_type": "code",
   "execution_count": 14,
   "metadata": {
    "ExecuteTime": {
     "end_time": "2018-04-12T16:58:43.643484Z",
     "start_time": "2018-04-12T16:56:23.791747Z"
    },
    "hidden": true
   },
   "outputs": [
    {
     "data": {
      "text/plain": [
       "KMeans(algorithm='auto', copy_x=True, init='k-means++', max_iter=300,\n",
       "    n_clusters=10, n_init=10, n_jobs=1, precompute_distances='auto',\n",
       "    random_state=42, tol=0.0001, verbose=0)"
      ]
     },
     "execution_count": 14,
     "metadata": {},
     "output_type": "execute_result"
    }
   ],
   "source": [
    "from sklearn.cluster import KMeans\n",
    "model_kmeans = KMeans(n_clusters=10, random_state=42)\n",
    "\n",
    "model_kmeans.fit(X_train)"
   ]
  },
  {
   "cell_type": "markdown",
   "metadata": {
    "hidden": true
   },
   "source": [
    "Predict the labes both for the training and the test set."
   ]
  },
  {
   "cell_type": "code",
   "execution_count": 15,
   "metadata": {
    "ExecuteTime": {
     "end_time": "2018-04-12T16:58:43.875607Z",
     "start_time": "2018-04-12T16:58:43.647001Z"
    },
    "hidden": true
   },
   "outputs": [],
   "source": [
    "y_train_predict = model_kmeans.predict(X_train)\n",
    "y_test_predict = model_kmeans.predict(X_test)"
   ]
  },
  {
   "cell_type": "markdown",
   "metadata": {
    "hidden": true
   },
   "source": [
    "Since K-Means does not use the labels, the numbering of the clusters is random and does not correspond to the digits."
   ]
  },
  {
   "cell_type": "code",
   "execution_count": 16,
   "metadata": {
    "ExecuteTime": {
     "end_time": "2018-04-12T16:58:44.445448Z",
     "start_time": "2018-04-12T16:58:43.877611Z"
    },
    "hidden": true
   },
   "outputs": [
    {
     "data": {
      "image/png": "[encoded data removed]",
      "text/plain": [
       "<Figure size 1152x576 with 2 Axes>"
      ]
     },
     "metadata": {},
     "output_type": "display_data"
    }
   ],
   "source": [
    "mat = confusion_matrix(y_test, y_test_predict)\n",
    "mat = mat / mat.sum() * 100\n",
    "\n",
    "sns.heatmap(mat, square=True, annot=True, cmap=\"YlGnBu\", fmt='.0f', vmin=0, vmax=11)\n",
    "plt.title(\"Confusion matrix on the test set before relabeling, percent\")\n",
    "plt.xlabel('predicted value')\n",
    "plt.ylabel('true value')\n",
    "plt.show()"
   ]
  },
  {
   "cell_type": "markdown",
   "metadata": {
    "hidden": true
   },
   "source": [
    "Let's relabel the predictions based on the most frequent digit in the cluster."
   ]
  },
  {
   "cell_type": "code",
   "execution_count": 17,
   "metadata": {
    "ExecuteTime": {
     "end_time": "2018-04-12T16:58:44.491545Z",
     "start_time": "2018-04-12T16:58:44.448425Z"
    },
    "hidden": true
   },
   "outputs": [
    {
     "name": "stdout",
     "output_type": "stream",
     "text": [
      "Original prediction 0 gets relabeled to 1\n",
      "Original prediction 1 gets relabeled to 2\n",
      "Original prediction 2 gets relabeled to 1\n",
      "Original prediction 3 gets relabeled to 8\n",
      "Original prediction 4 gets relabeled to 0\n",
      "Original prediction 5 gets relabeled to 7\n",
      "Original prediction 6 gets relabeled to 3\n",
      "Original prediction 7 gets relabeled to 0\n",
      "Original prediction 8 gets relabeled to 4\n",
      "Original prediction 9 gets relabeled to 6\n"
     ]
    }
   ],
   "source": [
    "from scipy.stats import mode\n",
    "\n",
    "y_train_predict_matched = np.zeros_like(y_train_predict)\n",
    "y_test_predict_matched = np.zeros_like(y_test_predict)\n",
    "\n",
    "for i in range(10):\n",
    "    mask = (y_train_predict == i)\n",
    "    y_train_predict_matched[mask] = mode(y_train[mask])[0]\n",
    "    print('Original prediction {i} gets relabeled to {new}'.format(\n",
    "        i=i, new=mode(y_train[mask])[0][0]))\n",
    "\n",
    "for i in range(10):\n",
    "    mask = (y_test_predict == i)\n",
    "    y_test_predict_matched[mask] = mode(y_test[mask])[0]\n",
    "\n",
    "y_train_predict = y_train_predict_matched\n",
    "y_test_predict = y_test_predict_matched"
   ]
  },
  {
   "cell_type": "markdown",
   "metadata": {
    "hidden": true
   },
   "source": [
    "Check quality of prediction."
   ]
  },
  {
   "cell_type": "code",
   "execution_count": 18,
   "metadata": {
    "ExecuteTime": {
     "end_time": "2018-04-12T16:58:44.507583Z",
     "start_time": "2018-04-12T16:58:44.496554Z"
    },
    "hidden": true
   },
   "outputs": [
    {
     "name": "stdout",
     "output_type": "stream",
     "text": [
      "Accuracy on training set: 0.5909 \n",
      "Accuracy on test set:     0.5943\n"
     ]
    }
   ],
   "source": [
    "print(\"Accuracy on training set:\", accuracy_score(y_train, y_train_predict),'\\n'\n",
    "     \"Accuracy on test set:    \", accuracy_score(y_test, y_test_predict),)"
   ]
  },
  {
   "cell_type": "markdown",
   "metadata": {
    "hidden": true
   },
   "source": [
    "We see below that the true values 4, 7 and 9 can not be separated by the model, the model predicts 4 and 7 - 9 is not predicted at all. Also 5 get's never predicted, for the true number 5, the model predicts mainly 3 and 8, but also 1, 4 and 7."
   ]
  },
  {
   "cell_type": "code",
   "execution_count": 19,
   "metadata": {
    "ExecuteTime": {
     "end_time": "2018-04-12T16:58:44.993863Z",
     "start_time": "2018-04-12T16:58:44.510592Z"
    },
    "hidden": true
   },
   "outputs": [
    {
     "data": {
      "image/png": "[encoded data removed]",
      "text/plain": [
       "<Figure size 1152x576 with 2 Axes>"
      ]
     },
     "metadata": {},
     "output_type": "display_data"
    }
   ],
   "source": [
    "mat = confusion_matrix(y_test, y_test_predict)\n",
    "mat = mat / mat.sum() * 100\n",
    "\n",
    "sns.heatmap(mat, square=True, annot=True, cmap=\"YlGnBu\", fmt='.0f')\n",
    "plt.title(\"Confusion matrix on test set, percent\")\n",
    "plt.xlabel('predicted value')\n",
    "plt.ylabel('true value')\n",
    "plt.show()"
   ]
  },
  {
   "cell_type": "markdown",
   "metadata": {
    "hidden": true
   },
   "source": [
    "Some more measurement for the quality of the model. \n",
    "\n",
    "- Precision measures how good the model is when predicting a given value, e.g., if the model predicts 0, the true value is really 0 in 83% of the times. For the digit 5 the precision if 0, since the model never predicts 5.\n",
    "- Recall measures how many of the digits the model recognises, e.g., the for 89% of the 980 images of 0 in our test sample, the model correctly predicts 0.\n",
    "- f1 is the harmonic mean of precision and recall (note: Jupyter Notebooks speaks **LaTeX**):\n",
    "$$ f_1 = 2 \\cdot \\frac{\\text{precision} \\cdot \\text{recall}}{\\text{precision} + \\text{recall}}$$"
   ]
  },
  {
   "cell_type": "code",
   "execution_count": 20,
   "metadata": {
    "ExecuteTime": {
     "end_time": "2018-04-12T16:58:45.012907Z",
     "start_time": "2018-04-12T16:58:44.996864Z"
    },
    "hidden": true
   },
   "outputs": [
    {
     "name": "stdout",
     "output_type": "stream",
     "text": [
      "             precision    recall  f1-score   support\n",
      "\n",
      "          0       0.83      0.89      0.86       980\n",
      "          1       0.61      0.99      0.76      1135\n",
      "          2       0.88      0.69      0.77      1032\n",
      "          3       0.53      0.69      0.60      1010\n",
      "          4       0.36      0.57      0.44       982\n",
      "          5       0.00      0.00      0.00       892\n",
      "          6       0.86      0.83      0.84       958\n",
      "          7       0.42      0.59      0.49      1028\n",
      "          8       0.54      0.60      0.57       974\n",
      "          9       0.00      0.00      0.00      1009\n",
      "\n",
      "avg / total       0.51      0.59      0.54     10000\n",
      "\n"
     ]
    }
   ],
   "source": [
    "print(classification_report(y_test, y_test_predict))"
   ]
  },
  {
   "cell_type": "markdown",
   "metadata": {
    "heading_collapsed": true
   },
   "source": [
    "# Naive Bayes\n",
    "\n",
    "Let's now try Naive Bayes as a simple model that uses the target labels. Basis for this model is Bayes' theorem:\n",
    "$$ p(C_k \\mid \\mathbf{x} ) = \\frac{p(C_k) \\  p(\\mathbf{x} \\mid C_k)}{p(\\mathbf{x})} $$"
   ]
  },
  {
   "cell_type": "markdown",
   "metadata": {
    "hidden": true
   },
   "source": [
    "Set the training and test data."
   ]
  },
  {
   "cell_type": "code",
   "execution_count": 21,
   "metadata": {
    "ExecuteTime": {
     "end_time": "2018-04-12T16:58:45.034965Z",
     "start_time": "2018-04-12T16:58:45.015915Z"
    },
    "hidden": true
   },
   "outputs": [],
   "source": [
    "X_train = train_images_flat\n",
    "X_test = test_images_flat\n",
    "y_train =  train_labels\n",
    "y_test = test_labels"
   ]
  },
  {
   "cell_type": "markdown",
   "metadata": {
    "hidden": true
   },
   "source": [
    "Load the model and fit it."
   ]
  },
  {
   "cell_type": "code",
   "execution_count": 22,
   "metadata": {
    "ExecuteTime": {
     "end_time": "2018-04-12T16:58:45.829733Z",
     "start_time": "2018-04-12T16:58:45.038976Z"
    },
    "hidden": true
   },
   "outputs": [
    {
     "data": {
      "text/plain": [
       "GaussianNB(priors=None)"
      ]
     },
     "execution_count": 22,
     "metadata": {},
     "output_type": "execute_result"
    }
   ],
   "source": [
    "# We use Gaussian Naive Bayes, assuming that the likelihood is Gaussian, which in reallity does not hold.\n",
    "from sklearn.naive_bayes import GaussianNB\n",
    "\n",
    "model_nb = GaussianNB()\n",
    "model_nb.fit(X_train, y_train)"
   ]
  },
  {
   "cell_type": "markdown",
   "metadata": {
    "hidden": true
   },
   "source": [
    "Predict the labes both for the training and the test set. Note that predicting takes much longer than fitting the model."
   ]
  },
  {
   "cell_type": "code",
   "execution_count": 23,
   "metadata": {
    "ExecuteTime": {
     "end_time": "2018-04-12T16:58:56.007995Z",
     "start_time": "2018-04-12T16:58:45.832740Z"
    },
    "hidden": true
   },
   "outputs": [],
   "source": [
    "y_train_predict = model_nb.predict(X_train)\n",
    "y_test_predict = model_nb.predict(X_test)"
   ]
  },
  {
   "cell_type": "markdown",
   "metadata": {
    "hidden": true
   },
   "source": [
    "Check quality of prediction - pretty similar to K-Means."
   ]
  },
  {
   "cell_type": "code",
   "execution_count": 24,
   "metadata": {
    "ExecuteTime": {
     "end_time": "2018-04-12T16:58:56.026044Z",
     "start_time": "2018-04-12T16:58:56.011003Z"
    },
    "hidden": true
   },
   "outputs": [
    {
     "name": "stdout",
     "output_type": "stream",
     "text": [
      "Accuracy on training set: 0.5649 \n",
      "Accuracy on test set:     0.5558\n"
     ]
    }
   ],
   "source": [
    "print(\"Accuracy on training set:\", accuracy_score(y_train, y_train_predict),'\\n'\n",
    "     \"Accuracy on test set:    \", accuracy_score(y_test, y_test_predict),)"
   ]
  },
  {
   "cell_type": "markdown",
   "metadata": {
    "hidden": true
   },
   "source": [
    "This time again the 5 does not get predicted. Also the digit 2 is not really recognized very well. And especially 8 and 9 get mixed up a lot. "
   ]
  },
  {
   "cell_type": "code",
   "execution_count": 25,
   "metadata": {
    "ExecuteTime": {
     "end_time": "2018-04-12T16:58:56.490280Z",
     "start_time": "2018-04-12T16:58:56.030055Z"
    },
    "hidden": true
   },
   "outputs": [
    {
     "data": {
      "image/png": "[encoded data removed]",
      "text/plain": [
       "<Figure size 1152x576 with 2 Axes>"
      ]
     },
     "metadata": {},
     "output_type": "display_data"
    }
   ],
   "source": [
    "mat = confusion_matrix(y_test, y_test_predict)\n",
    "mat = mat / mat.sum() * 100\n",
    "\n",
    "sns.heatmap(mat, square=True, annot=True, cmap=\"YlGnBu\", fmt='.0f')\n",
    "plt.title(\"Confusion matrix on test set, percent\")\n",
    "plt.xlabel('predicted value')\n",
    "plt.ylabel('true value')\n",
    "plt.show()"
   ]
  },
  {
   "cell_type": "markdown",
   "metadata": {
    "hidden": true
   },
   "source": [
    "2 is a good example showing the difference between precision and recall. While 2 has high precision, i.e., if the model predicts 2, it is almost always correct, but it misses a lot of 2s, those recall is low. This can also be seen by the confusion matrix above."
   ]
  },
  {
   "cell_type": "code",
   "execution_count": 26,
   "metadata": {
    "ExecuteTime": {
     "end_time": "2018-04-12T16:58:56.502206Z",
     "start_time": "2018-04-12T16:58:56.494183Z"
    },
    "hidden": true
   },
   "outputs": [
    {
     "name": "stdout",
     "output_type": "stream",
     "text": [
      "             precision    recall  f1-score   support\n",
      "\n",
      "          0       0.79      0.89      0.84       980\n",
      "          1       0.85      0.95      0.90      1135\n",
      "          2       0.90      0.26      0.40      1032\n",
      "          3       0.71      0.35      0.47      1010\n",
      "          4       0.88      0.17      0.29       982\n",
      "          5       0.55      0.05      0.09       892\n",
      "          6       0.65      0.93      0.77       958\n",
      "          7       0.88      0.27      0.42      1028\n",
      "          8       0.28      0.67      0.40       974\n",
      "          9       0.37      0.95      0.53      1009\n",
      "\n",
      "avg / total       0.69      0.56      0.52     10000\n",
      "\n"
     ]
    }
   ],
   "source": [
    "print(classification_report(y_test, y_test_predict))"
   ]
  },
  {
   "cell_type": "markdown",
   "metadata": {
    "heading_collapsed": true
   },
   "source": [
    "# Logistic Regression \n",
    "\n",
    "Now let's use a \"real\" model to get some decent results ;-)\n",
    "\n",
    "With the notion of softmax, the equivalent of the logistic function in binary logistic regression, \n",
    "$\n",
    "\\operatorname {softmax} (k,x_{1},\\ldots ,x_{n})={\\frac {e^{x_{k}}}{\\sum _{i=1}^{n}e^{x_{i}}}}\n",
    "$\n",
    "multinominal logistic regression can be stated as\n",
    "$$\n",
    "\\Pr(Y_{i}=c)=\\operatorname {softmax} (c,{\\boldsymbol {\\beta }}_{1}\\cdot \\mathbf {X} _{i},\\ldots ,{\\boldsymbol {\\beta }}_{K}\\cdot \\mathbf {X} _{i})\n",
    "$$"
   ]
  },
  {
   "cell_type": "markdown",
   "metadata": {
    "hidden": true
   },
   "source": [
    "Set the training and test data."
   ]
  },
  {
   "cell_type": "code",
   "execution_count": 27,
   "metadata": {
    "ExecuteTime": {
     "end_time": "2018-04-12T16:58:56.528274Z",
     "start_time": "2018-04-12T16:58:56.504214Z"
    },
    "hidden": true
   },
   "outputs": [],
   "source": [
    "X_train = train_images_flat\n",
    "X_test = test_images_flat\n",
    "y_train =  train_labels\n",
    "y_test = test_labels"
   ]
  },
  {
   "cell_type": "markdown",
   "metadata": {
    "hidden": true
   },
   "source": [
    "Load the model and fit it."
   ]
  },
  {
   "cell_type": "code",
   "execution_count": 28,
   "metadata": {
    "ExecuteTime": {
     "end_time": "2018-04-12T17:00:15.300756Z",
     "start_time": "2018-04-12T16:58:56.533294Z"
    },
    "hidden": true
   },
   "outputs": [
    {
     "data": {
      "text/plain": [
       "LogisticRegression(C=1.0, class_weight=None, dual=False, fit_intercept=True,\n",
       "          intercept_scaling=1, max_iter=100, multi_class='ovr', n_jobs=1,\n",
       "          penalty='l2', random_state=None, solver='liblinear', tol=0.0001,\n",
       "          verbose=0, warm_start=False)"
      ]
     },
     "execution_count": 28,
     "metadata": {},
     "output_type": "execute_result"
    }
   ],
   "source": [
    "from sklearn.linear_model import LogisticRegression\n",
    "\n",
    "model_logistic = LogisticRegression()\n",
    "model_logistic.fit(X_train, y_train)"
   ]
  },
  {
   "cell_type": "markdown",
   "metadata": {
    "hidden": true
   },
   "source": [
    "Predict the labes both for the training and the test set."
   ]
  },
  {
   "cell_type": "code",
   "execution_count": 29,
   "metadata": {
    "ExecuteTime": {
     "end_time": "2018-04-12T17:00:15.793553Z",
     "start_time": "2018-04-12T17:00:15.302759Z"
    },
    "hidden": true
   },
   "outputs": [],
   "source": [
    "y_train_predict = model_logistic.predict(X_train)\n",
    "y_test_predict = model_logistic.predict(X_test)"
   ]
  },
  {
   "cell_type": "markdown",
   "metadata": {
    "hidden": true
   },
   "source": [
    "Check quality of prediction, we notice some kind of overfitting, the accuracy on the training set is somewhat higher than on the test set. "
   ]
  },
  {
   "cell_type": "code",
   "execution_count": 30,
   "metadata": {
    "ExecuteTime": {
     "end_time": "2018-04-12T17:00:15.808482Z",
     "start_time": "2018-04-12T17:00:15.795897Z"
    },
    "hidden": true
   },
   "outputs": [
    {
     "name": "stdout",
     "output_type": "stream",
     "text": [
      "Accuracy on training set: 0.9279 \n",
      "Accuracy on test set:     0.9202\n"
     ]
    }
   ],
   "source": [
    "print(\"Accuracy on training set:\", accuracy_score(y_train, y_train_predict),'\\n'\n",
    "     \"Accuracy on test set:    \", accuracy_score(y_test, y_test_predict),)"
   ]
  },
  {
   "cell_type": "code",
   "execution_count": 31,
   "metadata": {
    "ExecuteTime": {
     "end_time": "2018-04-12T17:00:16.292022Z",
     "start_time": "2018-04-12T17:00:15.812492Z"
    },
    "hidden": true
   },
   "outputs": [
    {
     "data": {
      "image/png": "[encoded data removed]",
      "text/plain": [
       "<Figure size 1152x576 with 2 Axes>"
      ]
     },
     "metadata": {},
     "output_type": "display_data"
    }
   ],
   "source": [
    "mat = confusion_matrix(y_test, y_test_predict)\n",
    "mat = mat / mat.sum() * 100\n",
    "\n",
    "sns.heatmap(mat, square=True, annot=True, cmap=\"YlGnBu\", fmt='.0f')\n",
    "plt.title(\"Confusion matrix on test set, percent\")\n",
    "plt.xlabel('predicted value')\n",
    "plt.ylabel('true value')\n",
    "plt.show()"
   ]
  },
  {
   "cell_type": "code",
   "execution_count": 32,
   "metadata": {
    "ExecuteTime": {
     "end_time": "2018-04-12T17:00:16.305056Z",
     "start_time": "2018-04-12T17:00:16.295029Z"
    },
    "hidden": true
   },
   "outputs": [
    {
     "name": "stdout",
     "output_type": "stream",
     "text": [
      "             precision    recall  f1-score   support\n",
      "\n",
      "          0       0.95      0.98      0.96       980\n",
      "          1       0.96      0.98      0.97      1135\n",
      "          2       0.94      0.89      0.91      1032\n",
      "          3       0.89      0.91      0.90      1010\n",
      "          4       0.92      0.93      0.93       982\n",
      "          5       0.89      0.86      0.88       892\n",
      "          6       0.94      0.95      0.94       958\n",
      "          7       0.93      0.92      0.93      1028\n",
      "          8       0.87      0.88      0.87       974\n",
      "          9       0.90      0.89      0.89      1009\n",
      "\n",
      "avg / total       0.92      0.92      0.92     10000\n",
      "\n"
     ]
    }
   ],
   "source": [
    "print(classification_report(y_test, y_test_predict))"
   ]
  },
  {
   "cell_type": "markdown",
   "metadata": {
    "heading_collapsed": true
   },
   "source": [
    "# Random Forrest\n",
    "\n",
    "Random Forrests are a generalisation of decision trees."
   ]
  },
  {
   "cell_type": "markdown",
   "metadata": {
    "hidden": true
   },
   "source": [
    "Set the training and test data."
   ]
  },
  {
   "cell_type": "code",
   "execution_count": 33,
   "metadata": {
    "ExecuteTime": {
     "end_time": "2018-04-12T17:00:16.332135Z",
     "start_time": "2018-04-12T17:00:16.307061Z"
    },
    "hidden": true
   },
   "outputs": [],
   "source": [
    "X_train = train_images_flat\n",
    "X_test = test_images_flat\n",
    "y_train =  train_labels\n",
    "y_test = test_labels"
   ]
  },
  {
   "cell_type": "markdown",
   "metadata": {
    "hidden": true
   },
   "source": [
    "Load the model and fit it."
   ]
  },
  {
   "cell_type": "code",
   "execution_count": 34,
   "metadata": {
    "ExecuteTime": {
     "end_time": "2018-04-12T17:00:21.311240Z",
     "start_time": "2018-04-12T17:00:16.335141Z"
    },
    "hidden": true
   },
   "outputs": [
    {
     "data": {
      "text/plain": [
       "RandomForestClassifier(bootstrap=True, class_weight=None, criterion='gini',\n",
       "            max_depth=None, max_features='auto', max_leaf_nodes=None,\n",
       "            min_impurity_decrease=0.0, min_impurity_split=None,\n",
       "            min_samples_leaf=1, min_samples_split=2,\n",
       "            min_weight_fraction_leaf=0.0, n_estimators=10, n_jobs=1,\n",
       "            oob_score=False, random_state=None, verbose=0,\n",
       "            warm_start=False)"
      ]
     },
     "execution_count": 34,
     "metadata": {},
     "output_type": "execute_result"
    }
   ],
   "source": [
    "from sklearn.ensemble import RandomForestClassifier\n",
    "\n",
    "model_random = RandomForestClassifier()\n",
    "model_random.fit(X_train, y_train)"
   ]
  },
  {
   "cell_type": "markdown",
   "metadata": {
    "hidden": true
   },
   "source": [
    "Predict the labes both for the training and the test set."
   ]
  },
  {
   "cell_type": "code",
   "execution_count": 35,
   "metadata": {
    "ExecuteTime": {
     "end_time": "2018-04-12T17:00:21.743387Z",
     "start_time": "2018-04-12T17:00:21.314249Z"
    },
    "hidden": true
   },
   "outputs": [],
   "source": [
    "y_train_predict = model_random.predict(X_train)\n",
    "y_test_predict = model_random.predict(X_test)"
   ]
  },
  {
   "cell_type": "markdown",
   "metadata": {
    "hidden": true
   },
   "source": [
    "Check quality of prediction. We notice significant overfitting on the training set with accuracy of 99.9%."
   ]
  },
  {
   "cell_type": "code",
   "execution_count": 36,
   "metadata": {
    "ExecuteTime": {
     "end_time": "2018-04-12T17:00:21.755421Z",
     "start_time": "2018-04-12T17:00:21.745393Z"
    },
    "hidden": true
   },
   "outputs": [
    {
     "name": "stdout",
     "output_type": "stream",
     "text": [
      "Accuracy on training set: 0.9990333333333333 \n",
      "Accuracy on test set:     0.9481\n"
     ]
    }
   ],
   "source": [
    "print(\"Accuracy on training set:\", accuracy_score(y_train, y_train_predict),'\\n'\n",
    "     \"Accuracy on test set:    \", accuracy_score(y_test, y_test_predict),)"
   ]
  },
  {
   "cell_type": "code",
   "execution_count": 37,
   "metadata": {
    "ExecuteTime": {
     "end_time": "2018-04-12T17:00:21.777479Z",
     "start_time": "2018-04-12T17:00:21.757426Z"
    },
    "hidden": true
   },
   "outputs": [],
   "source": [
    "# Confusion matrix will show 'perfect' prediction, as above for logistic regression\n",
    "\n",
    "# mat = confusion_matrix(y_test, y_test_predict)\n",
    "# mat = mat / mat.sum() * 100\n",
    "# \n",
    "# sns.heatmap(mat, square=True, annot=True, cmap=\"YlGnBu\", fmt='.0f')\n",
    "# plt.title(\"Confusion matrix on test set, percent\")\n",
    "# plt.xlabel('predicted value')\n",
    "# plt.ylabel('true value')\n",
    "# plt.show()"
   ]
  },
  {
   "cell_type": "code",
   "execution_count": 38,
   "metadata": {
    "ExecuteTime": {
     "end_time": "2018-04-12T17:00:21.813575Z",
     "start_time": "2018-04-12T17:00:21.781489Z"
    },
    "hidden": true
   },
   "outputs": [
    {
     "name": "stdout",
     "output_type": "stream",
     "text": [
      "             precision    recall  f1-score   support\n",
      "\n",
      "          0       0.95      0.99      0.97       980\n",
      "          1       0.98      0.99      0.98      1135\n",
      "          2       0.93      0.96      0.95      1032\n",
      "          3       0.92      0.94      0.93      1010\n",
      "          4       0.94      0.95      0.95       982\n",
      "          5       0.94      0.93      0.94       892\n",
      "          6       0.97      0.96      0.96       958\n",
      "          7       0.96      0.94      0.95      1028\n",
      "          8       0.95      0.91      0.93       974\n",
      "          9       0.95      0.91      0.93      1009\n",
      "\n",
      "avg / total       0.95      0.95      0.95     10000\n",
      "\n"
     ]
    }
   ],
   "source": [
    "print(classification_report(y_test, y_test_predict))"
   ]
  },
  {
   "cell_type": "markdown",
   "metadata": {
    "heading_collapsed": true
   },
   "source": [
    "# Keras  - Basic\n",
    "\n",
    "Let's create a deep learning network. While we use a different library (Keras vs. sklearn), the syntax is still quite similiar."
   ]
  },
  {
   "cell_type": "markdown",
   "metadata": {
    "hidden": true
   },
   "source": [
    "Set the training and test data."
   ]
  },
  {
   "cell_type": "code",
   "execution_count": 39,
   "metadata": {
    "ExecuteTime": {
     "end_time": "2018-04-12T17:00:21.834632Z",
     "start_time": "2018-04-12T17:00:21.817586Z"
    },
    "hidden": true
   },
   "outputs": [],
   "source": [
    "X_train = train_images_flat\n",
    "X_test = test_images_flat\n",
    "y_train =  train_labels\n",
    "y_test = test_labels"
   ]
  },
  {
   "cell_type": "markdown",
   "metadata": {
    "hidden": true
   },
   "source": [
    "Load the model and fit it."
   ]
  },
  {
   "cell_type": "code",
   "execution_count": 40,
   "metadata": {
    "ExecuteTime": {
     "end_time": "2018-04-12T17:00:21.860700Z",
     "start_time": "2018-04-12T17:00:21.837638Z"
    },
    "hidden": true
   },
   "outputs": [],
   "source": [
    "from keras import models\n",
    "from keras import layers"
   ]
  },
  {
   "cell_type": "code",
   "execution_count": 41,
   "metadata": {
    "ExecuteTime": {
     "end_time": "2018-04-12T17:00:55.125284Z",
     "start_time": "2018-04-12T17:00:22.040939Z"
    },
    "hidden": true
   },
   "outputs": [],
   "source": [
    "model_dense = models.Sequential()\n",
    "model_dense.add(layers.Dense(512, activation='relu', input_shape=(28 * 28,)))\n",
    "model_dense.add(layers.Dense(10, activation='softmax'))"
   ]
  },
  {
   "cell_type": "code",
   "execution_count": 42,
   "metadata": {
    "ExecuteTime": {
     "end_time": "2018-04-12T17:00:21.997822Z",
     "start_time": "2018-04-12T17:00:21.948691Z"
    },
    "hidden": true
   },
   "outputs": [],
   "source": [
    "model_dense.compile(optimizer='rmsprop',\n",
    "              loss='categorical_crossentropy',\n",
    "              metrics=['accuracy'])"
   ]
  },
  {
   "cell_type": "markdown",
   "metadata": {
    "hidden": true
   },
   "source": [
    "While the labels are numbers, they numbers have no meaning in the sense of, e.g., 6 being larger than 3. The labels are categorial data, not ordinal. Keras needs the labels transformed in a categorical vector, e.g., 2 get transformed into [0,0,1,0,0,...]"
   ]
  },
  {
   "cell_type": "code",
   "execution_count": 43,
   "metadata": {
    "ExecuteTime": {
     "end_time": "2018-04-12T17:00:22.003841Z",
     "start_time": "2018-04-12T17:00:21.999827Z"
    },
    "hidden": true
   },
   "outputs": [],
   "source": [
    "from keras.utils import to_categorical"
   ]
  },
  {
   "cell_type": "code",
   "execution_count": 44,
   "metadata": {
    "ExecuteTime": {
     "end_time": "2018-04-12T17:00:22.034925Z",
     "start_time": "2018-04-12T17:00:22.006845Z"
    },
    "hidden": true
   },
   "outputs": [
    {
     "name": "stdout",
     "output_type": "stream",
     "text": [
      "5 gets transformed into [0. 0. 0. 0. 0. 1.].\n"
     ]
    }
   ],
   "source": [
    "print(\"{label} gets transformed into {label_categorial}.\".format(\n",
    "    label=train_labels[0],\n",
    "    label_categorial=to_categorical(train_labels[0])))"
   ]
  },
  {
   "cell_type": "code",
   "execution_count": 45,
   "metadata": {
    "ExecuteTime": {
     "end_time": "2018-04-12T17:00:55.125284Z",
     "start_time": "2018-04-12T17:00:22.040939Z"
    },
    "hidden": true
   },
   "outputs": [
    {
     "name": "stdout",
     "output_type": "stream",
     "text": [
      "Epoch 1/5\n",
      "60000/60000 [==============================] - 7s 113us/step - loss: 0.2549 - acc: 0.9269\n",
      "Epoch 2/5\n",
      "60000/60000 [==============================] - 6s 106us/step - loss: 0.1021 - acc: 0.9697\n",
      "Epoch 3/5\n",
      "60000/60000 [==============================] - 6s 106us/step - loss: 0.0684 - acc: 0.9795\n",
      "Epoch 4/5\n",
      "60000/60000 [==============================] - ETA: 0s - loss: 0.0498 - acc: 0.984 - 7s 110us/step - loss: 0.0497 - acc: 0.9849\n",
      "Epoch 5/5\n",
      "60000/60000 [==============================] - 7s 112us/step - loss: 0.0379 - acc: 0.9888\n"
     ]
    },
    {
     "data": {
      "text/plain": [
       "<keras.callbacks.History at 0x1d0235eddd8>"
      ]
     },
     "execution_count": 45,
     "metadata": {},
     "output_type": "execute_result"
    }
   ],
   "source": [
    "model_dense.fit(X_train, to_categorical(y_train),\n",
    "                    epochs=5, batch_size=128)"
   ]
  },
  {
   "cell_type": "markdown",
   "metadata": {
    "hidden": true
   },
   "source": [
    "Predict the labes both for the training and the test set."
   ]
  },
  {
   "cell_type": "code",
   "execution_count": 46,
   "metadata": {
    "ExecuteTime": {
     "end_time": "2018-04-12T17:00:59.239261Z",
     "start_time": "2018-04-12T17:00:55.130302Z"
    },
    "hidden": true
   },
   "outputs": [],
   "source": [
    "y_train_predict = model_dense.predict(X_train)\n",
    "y_test_predict = model_dense.predict(X_test)"
   ]
  },
  {
   "cell_type": "markdown",
   "metadata": {
    "hidden": true
   },
   "source": [
    "Keras gives as prediction not a single value, but the probability for each label. Thus we have to take the largest elments to get the predicted label. "
   ]
  },
  {
   "cell_type": "code",
   "execution_count": 47,
   "metadata": {
    "ExecuteTime": {
     "end_time": "2018-04-12T17:00:59.261320Z",
     "start_time": "2018-04-12T17:00:59.242270Z"
    },
    "hidden": true
   },
   "outputs": [
    {
     "data": {
      "text/plain": [
       "array([7.5631728e-14, 8.4616120e-11, 7.8926771e-10, 8.5261947e-04, 2.7818891e-22, 9.9914742e-01, 3.5796409e-15,\n",
       "       1.0830662e-10, 5.1588022e-12, 8.6186669e-11], dtype=float32)"
      ]
     },
     "execution_count": 47,
     "metadata": {},
     "output_type": "execute_result"
    }
   ],
   "source": [
    "y_train_predict[0]"
   ]
  },
  {
   "cell_type": "code",
   "execution_count": 48,
   "metadata": {
    "ExecuteTime": {
     "end_time": "2018-04-12T17:00:59.293406Z",
     "start_time": "2018-04-12T17:00:59.264327Z"
    },
    "hidden": true
   },
   "outputs": [],
   "source": [
    "y_train_predict = np.argmax(y_train_predict, axis=1)\n",
    "y_test_predict = np.argmax(y_test_predict, axis=1)"
   ]
  },
  {
   "cell_type": "code",
   "execution_count": 49,
   "metadata": {
    "ExecuteTime": {
     "end_time": "2018-04-12T17:00:59.320478Z",
     "start_time": "2018-04-12T17:00:59.295410Z"
    },
    "hidden": true
   },
   "outputs": [
    {
     "data": {
      "text/plain": [
       "5"
      ]
     },
     "execution_count": 49,
     "metadata": {},
     "output_type": "execute_result"
    }
   ],
   "source": [
    "y_train_predict[0]"
   ]
  },
  {
   "cell_type": "markdown",
   "metadata": {
    "hidden": true
   },
   "source": [
    "Check quality of prediction. We are now at 98% on the test sample, with some overfitting on the training set."
   ]
  },
  {
   "cell_type": "code",
   "execution_count": 50,
   "metadata": {
    "ExecuteTime": {
     "end_time": "2018-04-12T17:00:59.356573Z",
     "start_time": "2018-04-12T17:00:59.324488Z"
    },
    "hidden": true
   },
   "outputs": [
    {
     "name": "stdout",
     "output_type": "stream",
     "text": [
      "Accuracy on training set: 0.99305 \n",
      "Accuracy on test set:     0.9794\n"
     ]
    }
   ],
   "source": [
    "print(\"Accuracy on training set:\", accuracy_score(y_train, y_train_predict),'\\n'\n",
    "     \"Accuracy on test set:    \", accuracy_score(y_test, y_test_predict),)"
   ]
  },
  {
   "cell_type": "code",
   "execution_count": 51,
   "metadata": {
    "ExecuteTime": {
     "end_time": "2018-04-12T17:00:59.385649Z",
     "start_time": "2018-04-12T17:00:59.359582Z"
    },
    "hidden": true
   },
   "outputs": [
    {
     "name": "stdout",
     "output_type": "stream",
     "text": [
      "             precision    recall  f1-score   support\n",
      "\n",
      "          0       0.98      0.99      0.98       980\n",
      "          1       0.98      0.99      0.99      1135\n",
      "          2       0.98      0.98      0.98      1032\n",
      "          3       0.99      0.97      0.98      1010\n",
      "          4       0.99      0.98      0.98       982\n",
      "          5       0.96      0.99      0.97       892\n",
      "          6       0.98      0.98      0.98       958\n",
      "          7       0.99      0.97      0.98      1028\n",
      "          8       0.97      0.97      0.97       974\n",
      "          9       0.97      0.97      0.97      1009\n",
      "\n",
      "avg / total       0.98      0.98      0.98     10000\n",
      "\n"
     ]
    }
   ],
   "source": [
    "print(classification_report(y_test, y_test_predict))"
   ]
  },
  {
   "cell_type": "markdown",
   "metadata": {
    "heading_collapsed": true
   },
   "source": [
    "# Keras  - Basic + validation\n",
    "\n",
    "With deep learning it is common to have not only a training and a test sample, but also a validation sample. Here the training and validation are used for the model development, the test sample for final testing. Let's see how this work. To really see the impact, we will also increase the number of epochs."
   ]
  },
  {
   "cell_type": "code",
   "execution_count": 52,
   "metadata": {
    "ExecuteTime": {
     "end_time": "2018-04-12T17:00:59.407710Z",
     "start_time": "2018-04-12T17:00:59.388659Z"
    },
    "hidden": true
   },
   "outputs": [],
   "source": [
    "X_train = train_images_flat\n",
    "X_test = test_images_flat\n",
    "y_train =  train_labels\n",
    "y_test = test_labels"
   ]
  },
  {
   "cell_type": "code",
   "execution_count": 53,
   "metadata": {
    "ExecuteTime": {
     "end_time": "2018-04-12T17:00:59.615260Z",
     "start_time": "2018-04-12T17:00:59.409715Z"
    },
    "hidden": true
   },
   "outputs": [],
   "source": [
    "# We take 10.000 data points from the 60.000 training set to form the validation set.\n",
    "val_size = 10000\n",
    "\n",
    "# We want to randomly select the observations for the validation set.\n",
    "# Thus we first shuffle the training sample.\n",
    "indices = np.arange(X_train.shape[0])\n",
    "np.random.shuffle(indices)\n",
    "\n",
    "X_train = X_train[indices]\n",
    "y_train = y_train[indices]"
   ]
  },
  {
   "cell_type": "code",
   "execution_count": 54,
   "metadata": {
    "ExecuteTime": {
     "end_time": "2018-04-12T17:00:59.626293Z",
     "start_time": "2018-04-12T17:00:59.619275Z"
    },
    "hidden": true
   },
   "outputs": [],
   "source": [
    "# Now we select the first 10.000 data points as validation sample and the \n",
    "# rest as training sample.\n",
    "X_val = X_train[:val_size]\n",
    "y_val = y_train[:val_size]\n",
    "\n",
    "X_train = X_train[val_size:]\n",
    "y_train = y_train[val_size:]"
   ]
  },
  {
   "cell_type": "code",
   "execution_count": 55,
   "metadata": {
    "ExecuteTime": {
     "end_time": "2018-04-12T17:00:59.695474Z",
     "start_time": "2018-04-12T17:00:59.629299Z"
    },
    "hidden": true
   },
   "outputs": [],
   "source": [
    "model_dense_val = models.Sequential()\n",
    "model_dense_val.add(layers.Dense(512, activation='relu', input_shape=(28 * 28,)))\n",
    "model_dense_val.add(layers.Dense(10, activation='softmax'))"
   ]
  },
  {
   "cell_type": "code",
   "execution_count": 56,
   "metadata": {
    "ExecuteTime": {
     "end_time": "2018-04-12T17:00:59.758647Z",
     "start_time": "2018-04-12T17:00:59.697480Z"
    },
    "hidden": true
   },
   "outputs": [],
   "source": [
    "model_dense_val.compile(optimizer='rmsprop',\n",
    "              loss='categorical_crossentropy',\n",
    "              metrics=['accuracy'])"
   ]
  },
  {
   "cell_type": "markdown",
   "metadata": {
    "hidden": true
   },
   "source": [
    "The following takes about 2 minutes to run on my laptop, skipping it and just loading the results."
   ]
  },
  {
   "cell_type": "code",
   "execution_count": 57,
   "metadata": {
    "ExecuteTime": {
     "end_time": "2018-04-12T17:03:21.048779Z",
     "start_time": "2018-04-12T17:00:59.762653Z"
    },
    "hidden": true
   },
   "outputs": [
    {
     "name": "stdout",
     "output_type": "stream",
     "text": [
      "Train on 50000 samples, validate on 10000 samples\n",
      "Epoch 1/25\n",
      "50000/50000 [==============================] - 6s 130us/step - loss: 0.2791 - acc: 0.9187 - val_loss: 0.1527 - val_acc: 0.9548\n",
      "Epoch 2/25\n",
      "50000/50000 [==============================] - 6s 112us/step - loss: 0.1133 - acc: 0.9668 - val_loss: 0.1125 - val_acc: 0.9677\n",
      "Epoch 3/25\n",
      "50000/50000 [==============================] - 6s 112us/step - loss: 0.0742 - acc: 0.9779 - val_loss: 0.1014 - val_acc: 0.9708\n",
      "Epoch 4/25\n",
      "50000/50000 [==============================] - 6s 114us/step - loss: 0.0534 - acc: 0.9838 - val_loss: 0.0939 - val_acc: 0.9723\n",
      "Epoch 5/25\n",
      "50000/50000 [==============================] - 6s 113us/step - loss: 0.0396 - acc: 0.9880 - val_loss: 0.0976 - val_acc: 0.9729\n",
      "Epoch 6/25\n",
      "50000/50000 [==============================] - 6s 114us/step - loss: 0.0298 - acc: 0.9911 - val_loss: 0.0872 - val_acc: 0.9766\n",
      "Epoch 7/25\n",
      "50000/50000 [==============================] - 6s 118us/step - loss: 0.0218 - acc: 0.9938 - val_loss: 0.0837 - val_acc: 0.9782\n",
      "Epoch 8/25\n",
      "50000/50000 [==============================] - 6s 112us/step - loss: 0.0175 - acc: 0.9947 - val_loss: 0.0872 - val_acc: 0.9782\n",
      "Epoch 9/25\n",
      "50000/50000 [==============================] - 6s 111us/step - loss: 0.0131 - acc: 0.9966 - val_loss: 0.0894 - val_acc: 0.9777\n",
      "Epoch 10/25\n",
      "50000/50000 [==============================] - 6s 125us/step - loss: 0.0102 - acc: 0.9971 - val_loss: 0.0900 - val_acc: 0.9778\n",
      "Epoch 11/25\n",
      "50000/50000 [==============================] - 6s 114us/step - loss: 0.0078 - acc: 0.9979 - val_loss: 0.0965 - val_acc: 0.9778\n",
      "Epoch 12/25\n",
      "50000/50000 [==============================] - 5s 110us/step - loss: 0.0060 - acc: 0.9983 - val_loss: 0.0973 - val_acc: 0.9781\n",
      "Epoch 13/25\n",
      "50000/50000 [==============================] - 5s 105us/step - loss: 0.0046 - acc: 0.9990 - val_loss: 0.1041 - val_acc: 0.9767\n",
      "Epoch 14/25\n",
      "50000/50000 [==============================] - 5s 109us/step - loss: 0.0035 - acc: 0.9990 - val_loss: 0.1091 - val_acc: 0.9793\n",
      "Epoch 15/25\n",
      "50000/50000 [==============================] - 5s 109us/step - loss: 0.0029 - acc: 0.9992 - val_loss: 0.1049 - val_acc: 0.9782\n",
      "Epoch 16/25\n",
      "50000/50000 [==============================] - 5s 110us/step - loss: 0.0025 - acc: 0.9994 - val_loss: 0.1143 - val_acc: 0.9786\n",
      "Epoch 17/25\n",
      "50000/50000 [==============================] - 5s 109us/step - loss: 0.0020 - acc: 0.9996 - val_loss: 0.1174 - val_acc: 0.9778\n",
      "Epoch 18/25\n",
      "50000/50000 [==============================] - 6s 110us/step - loss: 0.0016 - acc: 0.9997 - val_loss: 0.1167 - val_acc: 0.9789\n",
      "Epoch 19/25\n",
      "50000/50000 [==============================] - 5s 109us/step - loss: 0.0013 - acc: 0.9998 - val_loss: 0.1253 - val_acc: 0.9769\n",
      "Epoch 20/25\n",
      "50000/50000 [==============================] - 5s 106us/step - loss: 0.0011 - acc: 0.9997 - val_loss: 0.1215 - val_acc: 0.9779\n",
      "Epoch 21/25\n",
      "50000/50000 [==============================] - 6s 110us/step - loss: 9.6128e-04 - acc: 0.9998 - val_loss: 0.1273 - val_acc: 0.9785\n",
      "Epoch 22/25\n",
      "50000/50000 [==============================] - 6s 112us/step - loss: 9.0306e-04 - acc: 0.9998 - val_loss: 0.1277 - val_acc: 0.9782\n",
      "Epoch 23/25\n",
      "50000/50000 [==============================] - 6s 112us/step - loss: 6.9757e-04 - acc: 0.9999 - val_loss: 0.1265 - val_acc: 0.9799\n",
      "Epoch 24/25\n",
      "50000/50000 [==============================] - 6s 117us/step - loss: 6.0818e-04 - acc: 0.9999 - val_loss: 0.1345 - val_acc: 0.9783\n",
      "Epoch 25/25\n",
      "50000/50000 [==============================] - 6s 113us/step - loss: 4.8176e-04 - acc: 1.0000 - val_loss: 0.1364 - val_acc: 0.9786\n",
      "Wall time: 2min 21s\n"
     ]
    }
   ],
   "source": [
    "%%time\n",
    "\n",
    "history = model_dense_val.fit(X_train, to_categorical(y_train),\n",
    "                              epochs=25, batch_size=128,\n",
    "                              validation_data=(X_val, to_categorical(y_val)))\n",
    "\n",
    "\n",
    "# Save both the model and the results (accuracy, loss) when developing the model.\n",
    "model_dense_val.save('dense_25_epoches_model.h5')\n",
    "\n",
    "import pickle\n",
    "\n",
    "with open('dense_25_epoches_history.pickle', 'wb') as file:\n",
    "    pickle.dump(history.history, file)"
   ]
  },
  {
   "cell_type": "markdown",
   "metadata": {
    "hidden": true
   },
   "source": [
    "Load the model and the results when developing the model."
   ]
  },
  {
   "cell_type": "code",
   "execution_count": 58,
   "metadata": {
    "ExecuteTime": {
     "end_time": "2018-04-12T17:03:21.989549Z",
     "start_time": "2018-04-12T17:03:21.052790Z"
    },
    "hidden": true
   },
   "outputs": [],
   "source": [
    "with open('dense_25_epoches_history.pickle', 'rb') as file:\n",
    "    hist_hist = pickle.load(file)\n",
    "\n",
    "from keras.models import load_model\n",
    "\n",
    "model_dense_val = load_model('dense_25_epoches_model.h5')"
   ]
  },
  {
   "cell_type": "markdown",
   "metadata": {
    "hidden": true
   },
   "source": [
    "Predict the labes both for the training and the test set."
   ]
  },
  {
   "cell_type": "code",
   "execution_count": 59,
   "metadata": {
    "ExecuteTime": {
     "end_time": "2018-04-12T17:03:25.989132Z",
     "start_time": "2018-04-12T17:03:21.989549Z"
    },
    "hidden": true
   },
   "outputs": [],
   "source": [
    "y_train_predict = model_dense_val.predict(X_train)\n",
    "y_val_predict = model_dense_val.predict(X_val)\n",
    "y_test_predict = model_dense_val.predict(X_test)"
   ]
  },
  {
   "cell_type": "code",
   "execution_count": 60,
   "metadata": {
    "ExecuteTime": {
     "end_time": "2018-04-12T17:03:26.001602Z",
     "start_time": "2018-04-12T17:03:25.989132Z"
    },
    "hidden": true
   },
   "outputs": [],
   "source": [
    "y_train_predict = np.argmax(y_train_predict, axis=1)\n",
    "y_val_predict = np.argmax(y_val_predict, axis=1)\n",
    "y_test_predict = np.argmax(y_test_predict, axis=1)"
   ]
  },
  {
   "cell_type": "markdown",
   "metadata": {
    "hidden": true
   },
   "source": [
    "Check quality of prediction. We are now at 98% on the test sample, with some overfitting on the training set, but no overfitting on the validation set."
   ]
  },
  {
   "cell_type": "code",
   "execution_count": 61,
   "metadata": {
    "ExecuteTime": {
     "end_time": "2018-04-12T17:03:26.032686Z",
     "start_time": "2018-04-12T17:03:26.005614Z"
    },
    "hidden": true
   },
   "outputs": [
    {
     "name": "stdout",
     "output_type": "stream",
     "text": [
      "Accuracy on training set:   0.99996 \n",
      "Accuracy on validation set: 0.9786 \n",
      "Accuracy on test set:       0.9806\n"
     ]
    }
   ],
   "source": [
    "print(\"Accuracy on training set:  \", accuracy_score(y_train, y_train_predict), '\\n'\n",
    "      \"Accuracy on validation set:\", accuracy_score(y_val, y_val_predict), '\\n'\n",
    "      \"Accuracy on test set:      \", accuracy_score(y_test, y_test_predict),)"
   ]
  },
  {
   "cell_type": "code",
   "execution_count": 62,
   "metadata": {
    "ExecuteTime": {
     "end_time": "2018-04-12T17:03:26.062766Z",
     "start_time": "2018-04-12T17:03:26.040706Z"
    },
    "hidden": true
   },
   "outputs": [],
   "source": [
    "acc = hist_hist['acc']\n",
    "val_acc = hist_hist['val_acc']"
   ]
  },
  {
   "cell_type": "code",
   "execution_count": 63,
   "metadata": {
    "ExecuteTime": {
     "end_time": "2018-04-12T17:03:26.486893Z",
     "start_time": "2018-04-12T17:03:26.066777Z"
    },
    "hidden": true
   },
   "outputs": [
    {
     "data": {
      "text/plain": [
       "<matplotlib.legend.Legend at 0x1d01ff6a748>"
      ]
     },
     "execution_count": 63,
     "metadata": {},
     "output_type": "execute_result"
    },
    {
     "data": {
      "image/png": "[encoded data removed]",
      "text/plain": [
       "<Figure size 1152x576 with 1 Axes>"
      ]
     },
     "metadata": {},
     "output_type": "display_data"
    }
   ],
   "source": [
    "epochs = range(1, len(acc) + 1)\n",
    "plt.plot(epochs, acc, 'bo', label='Training acc')\n",
    "plt.plot(epochs, val_acc, 'b', label='Validation acc')\n",
    "plt.title('Training and validation accuracy')\n",
    "plt.legend()"
   ]
  },
  {
   "cell_type": "markdown",
   "metadata": {
    "heading_collapsed": true
   },
   "source": [
    "# Keras Convnet\n",
    "\n",
    "We will now use a convolutional net, which is optimized to handle images. Note that we now don't use the flattened input now but the real image, i.e., a 28 x 28 matrix."
   ]
  },
  {
   "cell_type": "code",
   "execution_count": 64,
   "metadata": {
    "ExecuteTime": {
     "end_time": "2018-04-12T17:03:26.496921Z",
     "start_time": "2018-04-12T17:03:26.489904Z"
    },
    "hidden": true
   },
   "outputs": [],
   "source": [
    "X_train = train_images\n",
    "X_test = test_images\n",
    "y_train =  train_labels\n",
    "y_test = test_labels"
   ]
  },
  {
   "cell_type": "code",
   "execution_count": 65,
   "metadata": {
    "ExecuteTime": {
     "end_time": "2018-04-12T17:03:26.716505Z",
     "start_time": "2018-04-12T17:03:26.499929Z"
    },
    "hidden": true
   },
   "outputs": [],
   "source": [
    "# We take 10.000 data points from the 60.000 training set to form the validation set.\n",
    "val_size = 10000\n",
    "\n",
    "# We want to randomly select the observations for the validation set.\n",
    "# Thus we first shuffle the training sample.\n",
    "indices = np.arange(X_train.shape[0])\n",
    "np.random.shuffle(indices)\n",
    "\n",
    "X_train = X_train[indices]\n",
    "y_train = y_train[indices]"
   ]
  },
  {
   "cell_type": "code",
   "execution_count": 66,
   "metadata": {
    "ExecuteTime": {
     "end_time": "2018-04-12T17:03:26.730542Z",
     "start_time": "2018-04-12T17:03:26.719512Z"
    },
    "hidden": true
   },
   "outputs": [],
   "source": [
    "# Now we select the first 10.000 data points as validation sample and the \n",
    "# rest as training sample.\n",
    "X_val = X_train[:val_size]\n",
    "y_val = y_train[:val_size]\n",
    "\n",
    "X_train = X_train[val_size:]\n",
    "y_train = y_train[val_size:]"
   ]
  },
  {
   "cell_type": "code",
   "execution_count": 67,
   "metadata": {
    "ExecuteTime": {
     "end_time": "2018-04-12T17:03:26.866905Z",
     "start_time": "2018-04-12T17:03:26.733550Z"
    },
    "hidden": true
   },
   "outputs": [],
   "source": [
    "model_conv = models.Sequential()\n",
    "model_conv.add(layers.Conv2D(32, (3, 3), activation='relu', input_shape=(28, 28, 1)))\n",
    "model_conv.add(layers.MaxPooling2D((2, 2)))\n",
    "model_conv.add(layers.Conv2D(64, (3, 3), activation='relu'))\n",
    "model_conv.add(layers.MaxPooling2D((2, 2)))\n",
    "model_conv.add(layers.Conv2D(64, (3, 3), activation='relu'))\n",
    "\n",
    "model_conv.add(layers.Flatten())\n",
    "model_conv.add(layers.Dense(64, activation='relu'))\n",
    "model_conv.add(layers.Dense(10, activation='softmax'))"
   ]
  },
  {
   "cell_type": "code",
   "execution_count": 68,
   "metadata": {
    "ExecuteTime": {
     "end_time": "2018-04-12T17:03:26.876932Z",
     "start_time": "2018-04-12T17:03:26.868909Z"
    },
    "hidden": true
   },
   "outputs": [
    {
     "name": "stdout",
     "output_type": "stream",
     "text": [
      "_________________________________________________________________\n",
      "Layer (type)                 Output Shape              Param #   \n",
      "=================================================================\n",
      "conv2d_1 (Conv2D)            (None, 26, 26, 32)        320       \n",
      "_________________________________________________________________\n",
      "max_pooling2d_1 (MaxPooling2 (None, 13, 13, 32)        0         \n",
      "_________________________________________________________________\n",
      "conv2d_2 (Conv2D)            (None, 11, 11, 64)        18496     \n",
      "_________________________________________________________________\n",
      "max_pooling2d_2 (MaxPooling2 (None, 5, 5, 64)          0         \n",
      "_________________________________________________________________\n",
      "conv2d_3 (Conv2D)            (None, 3, 3, 64)          36928     \n",
      "_________________________________________________________________\n",
      "flatten_1 (Flatten)          (None, 576)               0         \n",
      "_________________________________________________________________\n",
      "dense_5 (Dense)              (None, 64)                36928     \n",
      "_________________________________________________________________\n",
      "dense_6 (Dense)              (None, 10)                650       \n",
      "=================================================================\n",
      "Total params: 93,322\n",
      "Trainable params: 93,322\n",
      "Non-trainable params: 0\n",
      "_________________________________________________________________\n"
     ]
    }
   ],
   "source": [
    "model_conv.summary()"
   ]
  },
  {
   "cell_type": "code",
   "execution_count": 69,
   "metadata": {
    "ExecuteTime": {
     "end_time": "2018-04-12T17:03:26.948124Z",
     "start_time": "2018-04-12T17:03:26.881950Z"
    },
    "hidden": true
   },
   "outputs": [],
   "source": [
    "model_conv.compile(optimizer='rmsprop',\n",
    "              loss='categorical_crossentropy',\n",
    "              metrics=['accuracy'])"
   ]
  },
  {
   "cell_type": "markdown",
   "metadata": {
    "hidden": true
   },
   "source": [
    "The following takes ~ 25 min on my laptop, thus skipping it and just loading the results."
   ]
  },
  {
   "cell_type": "code",
   "execution_count": 70,
   "metadata": {
    "ExecuteTime": {
     "end_time": "2018-04-12T17:27:19.362065Z",
     "start_time": "2018-04-12T17:03:26.952134Z"
    },
    "hidden": true
   },
   "outputs": [
    {
     "name": "stdout",
     "output_type": "stream",
     "text": [
      "Train on 50000 samples, validate on 10000 samples\n",
      "Epoch 1/25\n",
      "50000/50000 [==============================] - 57s 1ms/step - loss: 0.2013 - acc: 0.9369 - val_loss: 0.0622 - val_acc: 0.9805\n",
      "Epoch 2/25\n",
      "50000/50000 [==============================] - 57s 1ms/step - loss: 0.0563 - acc: 0.9829 - val_loss: 0.0490 - val_acc: 0.9861\n",
      "Epoch 3/25\n",
      "50000/50000 [==============================] - 57s 1ms/step - loss: 0.0389 - acc: 0.9882 - val_loss: 0.0402 - val_acc: 0.9870\n",
      "Epoch 4/25\n",
      "50000/50000 [==============================] - 58s 1ms/step - loss: 0.0286 - acc: 0.9913 - val_loss: 0.0394 - val_acc: 0.9886\n",
      "Epoch 5/25\n",
      "50000/50000 [==============================] - 57s 1ms/step - loss: 0.0224 - acc: 0.9931 - val_loss: 0.0338 - val_acc: 0.9899\n",
      "Epoch 6/25\n",
      "50000/50000 [==============================] - 57s 1ms/step - loss: 0.0187 - acc: 0.9946 - val_loss: 0.0396 - val_acc: 0.9893\n",
      "Epoch 7/25\n",
      "50000/50000 [==============================] - 57s 1ms/step - loss: 0.0154 - acc: 0.9955 - val_loss: 0.0326 - val_acc: 0.9917\n",
      "Epoch 8/25\n",
      "50000/50000 [==============================] - 57s 1ms/step - loss: 0.0134 - acc: 0.9961 - val_loss: 0.0323 - val_acc: 0.9912\n",
      "Epoch 9/25\n",
      "50000/50000 [==============================] - 57s 1ms/step - loss: 0.0103 - acc: 0.9968 - val_loss: 0.0420 - val_acc: 0.9896\n",
      "Epoch 10/25\n",
      "50000/50000 [==============================] - 57s 1ms/step - loss: 0.0088 - acc: 0.9974 - val_loss: 0.0396 - val_acc: 0.9906\n",
      "Epoch 11/25\n",
      "50000/50000 [==============================] - 57s 1ms/step - loss: 0.0075 - acc: 0.9975 - val_loss: 0.0369 - val_acc: 0.9913\n",
      "Epoch 12/25\n",
      "50000/50000 [==============================] - 57s 1ms/step - loss: 0.0065 - acc: 0.9982 - val_loss: 0.0412 - val_acc: 0.9917\n",
      "Epoch 13/25\n",
      "50000/50000 [==============================] - 57s 1ms/step - loss: 0.0062 - acc: 0.9980 - val_loss: 0.0478 - val_acc: 0.9909\n",
      "Epoch 14/25\n",
      "50000/50000 [==============================] - 57s 1ms/step - loss: 0.0053 - acc: 0.9984 - val_loss: 0.0524 - val_acc: 0.9916\n",
      "Epoch 15/25\n",
      "50000/50000 [==============================] - 58s 1ms/step - loss: 0.0047 - acc: 0.9987 - val_loss: 0.0789 - val_acc: 0.9883\n",
      "Epoch 16/25\n",
      "50000/50000 [==============================] - 58s 1ms/step - loss: 0.0049 - acc: 0.9986 - val_loss: 0.0558 - val_acc: 0.9920\n",
      "Epoch 17/25\n",
      "50000/50000 [==============================] - 57s 1ms/step - loss: 0.0041 - acc: 0.9989 - val_loss: 0.0697 - val_acc: 0.9914\n",
      "Epoch 18/25\n",
      "50000/50000 [==============================] - 58s 1ms/step - loss: 0.0044 - acc: 0.9989 - val_loss: 0.0561 - val_acc: 0.9914\n",
      "Epoch 19/25\n",
      "50000/50000 [==============================] - 57s 1ms/step - loss: 0.0047 - acc: 0.9989 - val_loss: 0.0523 - val_acc: 0.9919\n",
      "Epoch 20/25\n",
      "50000/50000 [==============================] - 58s 1ms/step - loss: 0.0036 - acc: 0.9991 - val_loss: 0.0665 - val_acc: 0.9912\n",
      "Epoch 21/25\n",
      "50000/50000 [==============================] - 58s 1ms/step - loss: 0.0030 - acc: 0.9991 - val_loss: 0.0629 - val_acc: 0.9929\n",
      "Epoch 22/25\n",
      "50000/50000 [==============================] - 58s 1ms/step - loss: 0.0041 - acc: 0.9991 - val_loss: 0.0785 - val_acc: 0.9887\n",
      "Epoch 23/25\n",
      "50000/50000 [==============================] - 57s 1ms/step - loss: 0.0033 - acc: 0.9993 - val_loss: 0.0566 - val_acc: 0.9928\n",
      "Epoch 24/25\n",
      "50000/50000 [==============================] - 57s 1ms/step - loss: 0.0025 - acc: 0.9993 - val_loss: 0.0689 - val_acc: 0.9920\n",
      "Epoch 25/25\n",
      "50000/50000 [==============================] - 57s 1ms/step - loss: 0.0029 - acc: 0.9991 - val_loss: 0.0641 - val_acc: 0.9915\n",
      "Wall time: 23min 52s\n"
     ]
    }
   ],
   "source": [
    "%%time\n",
    "\n",
    "history = model_conv.fit(X_train, to_categorical(y_train),\n",
    "                   epochs=25, batch_size=64,\n",
    "                   validation_data=(X_val, to_categorical(y_val)))\n",
    "\n",
    "\n",
    "# Save both the model and the results (accuracy, loss) when developing the model.\n",
    "model_conv.save('conv_25_epoches_model.h5') \n",
    "\n",
    "import pickle\n",
    "with open('conv_25_epoches_history.pickle', 'wb') as file:\n",
    "    pickle.dump(history.history, file)"
   ]
  },
  {
   "cell_type": "markdown",
   "metadata": {
    "hidden": true
   },
   "source": [
    "Load the model and the results when developing the model."
   ]
  },
  {
   "cell_type": "code",
   "execution_count": 71,
   "metadata": {
    "ExecuteTime": {
     "end_time": "2018-04-12T17:27:20.534759Z",
     "start_time": "2018-04-12T17:27:19.365072Z"
    },
    "hidden": true
   },
   "outputs": [],
   "source": [
    "with open('conv_25_epoches_history.pickle', 'rb') as file:\n",
    "    hist_hist = pickle.load(file)\n",
    "\n",
    "from keras.models import load_model\n",
    "\n",
    "model_dense_val = load_model('conv_25_epoches_model.h5')"
   ]
  },
  {
   "cell_type": "markdown",
   "metadata": {
    "hidden": true
   },
   "source": [
    "Predict the labes both for the training and the test set."
   ]
  },
  {
   "cell_type": "code",
   "execution_count": 72,
   "metadata": {
    "ExecuteTime": {
     "end_time": "2018-04-12T17:27:40.441310Z",
     "start_time": "2018-04-12T17:27:20.536765Z"
    },
    "hidden": true
   },
   "outputs": [],
   "source": [
    "y_train_predict = model_dense_val.predict(X_train)\n",
    "y_val_predict = model_dense_val.predict(X_val)\n",
    "y_test_predict = model_dense_val.predict(X_test)"
   ]
  },
  {
   "cell_type": "code",
   "execution_count": 73,
   "metadata": {
    "ExecuteTime": {
     "end_time": "2018-04-12T17:27:40.453344Z",
     "start_time": "2018-04-12T17:27:40.443317Z"
    },
    "hidden": true
   },
   "outputs": [],
   "source": [
    "y_train_predict = np.argmax(y_train_predict, axis=1)\n",
    "y_val_predict = np.argmax(y_val_predict, axis=1)\n",
    "y_test_predict = np.argmax(y_test_predict, axis=1)"
   ]
  },
  {
   "cell_type": "markdown",
   "metadata": {
    "hidden": true
   },
   "source": [
    "Check quality of prediction. We are now at 99% on the test sample, with some overfitting on the training set, but no overfitting on the validation set."
   ]
  },
  {
   "cell_type": "code",
   "execution_count": 74,
   "metadata": {
    "ExecuteTime": {
     "end_time": "2018-04-12T17:27:40.490441Z",
     "start_time": "2018-04-12T17:27:40.456351Z"
    },
    "hidden": true
   },
   "outputs": [
    {
     "name": "stdout",
     "output_type": "stream",
     "text": [
      "Accuracy on training set:   0.99944 \n",
      "Accuracy on validation set: 0.9915 \n",
      "Accuracy on test set:       0.992\n"
     ]
    }
   ],
   "source": [
    "print(\"Accuracy on training set:  \", accuracy_score(y_train, y_train_predict), '\\n'\n",
    "      \"Accuracy on validation set:\", accuracy_score(y_val, y_val_predict), '\\n'\n",
    "      \"Accuracy on test set:      \", accuracy_score(y_test, y_test_predict),)"
   ]
  },
  {
   "cell_type": "code",
   "execution_count": 75,
   "metadata": {
    "ExecuteTime": {
     "end_time": "2018-04-12T17:27:40.515509Z",
     "start_time": "2018-04-12T17:27:40.494454Z"
    },
    "hidden": true
   },
   "outputs": [],
   "source": [
    "acc = hist_hist['acc']\n",
    "val_acc = hist_hist['val_acc']"
   ]
  },
  {
   "cell_type": "code",
   "execution_count": 76,
   "metadata": {
    "ExecuteTime": {
     "end_time": "2018-04-12T17:27:40.910559Z",
     "start_time": "2018-04-12T17:27:40.519520Z"
    },
    "hidden": true
   },
   "outputs": [
    {
     "data": {
      "text/plain": [
       "<matplotlib.legend.Legend at 0x1d03b673d68>"
      ]
     },
     "execution_count": 76,
     "metadata": {},
     "output_type": "execute_result"
    },
    {
     "data": {
      "image/png": "[encoded data removed]",
      "text/plain": [
       "<Figure size 1152x576 with 1 Axes>"
      ]
     },
     "metadata": {},
     "output_type": "display_data"
    }
   ],
   "source": [
    "epochs = range(1, len(acc) + 1)\n",
    "plt.plot(epochs, acc, 'bo', label='Training acc')\n",
    "plt.plot(epochs, val_acc, 'b', label='Validation acc')\n",
    "plt.title('Training and validation accuracy')\n",
    "plt.legend()"
   ]
  }
 ],
 "metadata": {
  "kernelspec": {
   "display_name": "Python 3",
   "language": "python",
   "name": "python3"
  },
  "language_info": {
   "codemirror_mode": {
    "name": "ipython",
    "version": 3
   },
   "file_extension": ".py",
   "mimetype": "text/x-python",
   "name": "python",
   "nbconvert_exporter": "python",
   "pygments_lexer": "ipython3",
   "version": "3.6.5"
  }
 },
 "nbformat": 4,
 "nbformat_minor": 2
}
